{
 "cells": [
  {
   "cell_type": "code",
   "execution_count": 8,
   "metadata": {},
   "outputs": [
    {
     "name": "stderr",
     "output_type": "stream",
     "text": [
      "ffmpeg version 6.1.1-full_build-www.gyan.dev Copyright (c) 2000-2023 the FFmpeg developers\n",
      "  built with gcc 12.2.0 (Rev10, Built by MSYS2 project)\n",
      "  configuration: --enable-gpl --enable-version3 --enable-static --pkg-config=pkgconf --disable-w32threads --disable-autodetect --enable-fontconfig --enable-iconv --enable-gnutls --enable-libxml2 --enable-gmp --enable-bzlib --enable-lzma --enable-libsnappy --enable-zlib --enable-librist --enable-libsrt --enable-libssh --enable-libzmq --enable-avisynth --enable-libbluray --enable-libcaca --enable-sdl2 --enable-libaribb24 --enable-libaribcaption --enable-libdav1d --enable-libdavs2 --enable-libuavs3d --enable-libzvbi --enable-librav1e --enable-libsvtav1 --enable-libwebp --enable-libx264 --enable-libx265 --enable-libxavs2 --enable-libxvid --enable-libaom --enable-libjxl --enable-libopenjpeg --enable-libvpx --enable-mediafoundation --enable-libass --enable-frei0r --enable-libfreetype --enable-libfribidi --enable-libharfbuzz --enable-liblensfun --enable-libvidstab --enable-libvmaf --enable-libzimg --enable-amf --enable-cuda-llvm --enable-cuvid --enable-ffnvcodec --enable-nvdec --enable-nvenc --enable-dxva2 --enable-d3d11va --enable-libvpl --enable-libshaderc --enable-vulkan --enable-libplacebo --enable-opencl --enable-libcdio --enable-libgme --enable-libmodplug --enable-libopenmpt --enable-libopencore-amrwb --enable-libmp3lame --enable-libshine --enable-libtheora --enable-libtwolame --enable-libvo-amrwbenc --enable-libcodec2 --enable-libilbc --enable-libgsm --enable-libopencore-amrnb --enable-libopus --enable-libspeex --enable-libvorbis --enable-ladspa --enable-libbs2b --enable-libflite --enable-libmysofa --enable-librubberband --enable-libsoxr --enable-chromaprint\n",
      "  libavutil      58. 29.100 / 58. 29.100\n",
      "  libavcodec     60. 31.102 / 60. 31.102\n",
      "  libavformat    60. 16.100 / 60. 16.100\n",
      "  libavdevice    60.  3.100 / 60.  3.100\n",
      "  libavfilter     9. 12.100 /  9. 12.100\n",
      "  libswscale      7.  5.100 /  7.  5.100\n",
      "  libswresample   4. 12.100 /  4. 12.100\n",
      "  libpostproc    57.  3.100 / 57.  3.100\n",
      "Input #0, mov,mp4,m4a,3gp,3g2,mj2, from 'wildtrack_raw/cam5.mp4':\n",
      "  Metadata:\n",
      "    major_brand     : isom\n",
      "    minor_version   : 512\n",
      "    compatible_brands: isomiso2avc1mp41\n",
      "    encoder         : Lavf57.34.103\n",
      "  Duration: 00:35:00.00, start: 0.016000, bitrate: 30102 kb/s\n",
      "  Stream #0:0[0x1](eng): Video: h264 (High) (avc1 / 0x31637661), yuvj420p(pc, bt709, progressive), 1920x1080 [SAR 1:1 DAR 16:9], 29969 kb/s, 59.94 fps, 59.94 tbr, 60k tbn (default)\n",
      "    Metadata:\n",
      "      handler_name    : VideoHandler\n",
      "      vendor_id       : [0][0][0][0]\n",
      "  Stream #0:1[0x2](eng): Audio: aac (LC) (mp4a / 0x6134706D), 48000 Hz, stereo, fltp, 128 kb/s (default)\n",
      "    Metadata:\n",
      "      handler_name    : SoundHandler\n",
      "      vendor_id       : [0][0][0][0]\n",
      "Stream mapping:\n",
      "  Stream #0:0 -> #0:0 (h264 (native) -> png (native))\n",
      "Press [q] to stop, [?] for help\n",
      "[swscaler @ 000002bf4c63c600] deprecated pixel format used, make sure you did set range correctly\n",
      "    Last message repeated 3 times\n",
      "Output #0, image2, to 'wildtrack_raw/images/%06d.png':\n",
      "  Metadata:\n",
      "    major_brand     : isom\n",
      "    minor_version   : 512\n",
      "    compatible_brands: isomiso2avc1mp41\n",
      "    encoder         : Lavf60.16.100\n",
      "  Stream #0:0(eng): Video: png, rgb24(pc, gbr/bt709/bt709, progressive), 1920x1080 [SAR 1:1 DAR 16:9], q=2-31, 200 kb/s, 30 fps, 30 tbn (default)\n",
      "    Metadata:\n",
      "      handler_name    : VideoHandler\n",
      "      vendor_id       : [0][0][0][0]\n",
      "      encoder         : Lavc60.31.102 png\n",
      "frame=    0 fps=0.0 q=0.0 size=       0kB time=N/A bitrate=N/A speed=N/A    \n",
      "frame=   14 fps= 13 q=-0.0 size=N/A time=00:00:00.43 bitrate=N/A dup=0 drop=30 speed=0.394x    \n",
      "frame=   39 fps= 24 q=-0.0 size=N/A time=00:00:01.26 bitrate=N/A dup=0 drop=55 speed=0.778x    \n",
      "frame=   60 fps= 28 q=-0.0 size=N/A time=00:00:01.96 bitrate=N/A dup=0 drop=76 speed=0.918x    \n",
      "frame=   88 fps= 33 q=-0.0 size=N/A time=00:00:02.90 bitrate=N/A dup=0 drop=104 speed=1.09x    \n",
      "frame=  112 fps= 34 q=-0.0 size=N/A time=00:00:03.70 bitrate=N/A dup=0 drop=128 speed=1.12x    \n",
      "frame=  139 fps= 36 q=-0.0 size=N/A time=00:00:04.60 bitrate=N/A dup=0 drop=155 speed=1.19x    \n",
      "frame=  166 fps= 38 q=-0.0 size=N/A time=00:00:05.50 bitrate=N/A dup=0 drop=182 speed=1.24x    \n",
      "[out#0/image2 @ 000002bf4ca3cb40] video:506295kB audio:0kB subtitle:0kB other streams:0kB global headers:0kB muxing overhead: unknown\n",
      "frame=  190 fps= 40 q=-0.0 Lsize=N/A time=00:00:06.30 bitrate=N/A dup=0 drop=186 speed=1.32x    \n"
     ]
    }
   ],
   "source": [
    "!ffmpeg -i wildtrack_raw/cam5.mp4 -vframes 180 -r 30 -ss 8 wildtrack_raw/images/%06d.png"
   ]
  },
  {
   "cell_type": "code",
   "execution_count": 9,
   "metadata": {},
   "outputs": [],
   "source": [
    "import xml.etree.ElementTree as ET\n",
    "import numpy as np\n",
    "import cv2\n",
    "import os\n",
    "filename = \"extr_IDIAP1.xml\"\n",
    "\n",
    "# read the extrinsic and intrinsic calibration files\n",
    "tree_ext = ET.parse(f'./wildtrack_raw/calibrations/extrinsic/{filename}')\n",
    "tree_int = ET.parse(f'./wildtrack_raw/calibrations/intrinsic_original/{filename.replace(\"extr\", \"intr\")}')\n",
    "root = tree_ext.getroot()\n",
    "rvec = root.find('rvec').text\n",
    "tvec = root.find('tvec').text\n",
    "\n",
    "root = tree_int.getroot()\n",
    "camera_matrix = root.find('camera_matrix').find('data').text\n",
    "dist_coeffs = root.find('distortion_coefficients').find('data').text\n",
    "\n",
    "# convert the strings to numpy arrays\n",
    "rvec = np.array([float(x) for x in rvec.split()])\n",
    "tvec = np.array([float(x) for x in tvec.split()])\n",
    "camera_matrix = np.array([float(x) for x in camera_matrix.split()]).reshape(3, 3)\n",
    "dist_coeffs = np.array([float(x) for x in dist_coeffs.split()])\n",
    "\n",
    "# convert the rotation vector to a rotation matrix\n",
    "rotmat, _ = cv2.Rodrigues(rvec)\n",
    "\n",
    "\n",
    "# get the list of files in the directory wildtrack_raw/images\n",
    "files = os.listdir('./wildtrack_raw/images')\n",
    "\n",
    "for img_name in files:\n",
    "    # undistort image \n",
    "    img = cv2.imread(f\"./wildtrack_raw/images/{img_name}\")\n",
    "    h, w = img.shape[:2]\n",
    "    newcameramtx, roi = cv2.getOptimalNewCameraMatrix(camera_matrix, dist_coeffs, (w,h), 1, (w,h))\n",
    "    dst = cv2.undistort(img, camera_matrix, dist_coeffs, None, newcameramtx)\n",
    "    x, y, w, h = roi   \n",
    "    dst = dst[y:y+h, x:x+w]\n",
    "    \n",
    "    dst = dst[:1024, :1024]\n",
    "    dst = cv2.resize(dst, (512, 512))\n",
    "    \n",
    "    # save the undistorted image\n",
    "    cv2.imwrite(f\"./wildtrack_processed/images/{img_name}\", dst)\n",
    "\n",
    "\n",
    "def crop_image(img, x, y, w, h, intrinsics):\n",
    "    img_ = img[y:y+h, x:x+w]\n",
    "    intrinsics_ = intrinsics.copy()\n",
    "    intrinsics_[0, 2] -= x\n",
    "    intrinsics_[1, 2] -= y\n",
    "    return img_, intrinsics_\n",
    "\n",
    "    \n",
    "\n"
   ]
  },
  {
   "cell_type": "code",
   "execution_count": 2,
   "metadata": {},
   "outputs": [
    {
     "name": "stdout",
     "output_type": "stream",
     "text": [
      "[[1.49855590e+03 0.00000000e+00 9.31032949e+02]\n",
      " [0.00000000e+00 1.52407095e+03 4.78573914e+02]\n",
      " [0.00000000e+00 0.00000000e+00 1.00000000e+00]]\n"
     ]
    },
    {
     "ename": "",
     "evalue": "",
     "output_type": "error",
     "traceback": [
      "\u001b[1;31mThe Kernel crashed while executing code in the current cell or a previous cell. \n",
      "\u001b[1;31mPlease review the code in the cell(s) to identify a possible cause of the failure. \n",
      "\u001b[1;31mClick <a href='https://aka.ms/vscodeJupyterKernelCrash'>here</a> for more info. \n",
      "\u001b[1;31mView Jupyter <a href='command:jupyter.viewOutput'>log</a> for further details."
     ]
    }
   ],
   "source": [
    "print(newcameramtx)"
   ]
  },
  {
   "cell_type": "code",
   "execution_count": 2,
   "metadata": {},
   "outputs": [
    {
     "name": "stdout",
     "output_type": "stream",
     "text": [
      "{'000001.png': [[391, 173], [364, 307], [424, 422], [387, 681]], '000002.png': [[391, 173], [364, 307], [424, 422], [387, 681]], '000003.png': [[391, 173], [364, 307], [424, 422], [387, 681]], '000004.png': [[391, 173], [364, 307], [424, 422], [387, 681], [421, 227]], '000005.png': [[391, 173], [364, 307], [424, 422], [387, 681], [440, 243]], '000006.png': [[391, 173], [364, 307], [424, 422], [387, 681], [440, 242]], '000007.png': [[391, 173], [364, 307], [424, 422], [387, 681], [442, 243]], '000008.png': [[391, 173], [364, 307], [424, 422], [387, 681], [444, 240]], '000009.png': [[391, 173], [364, 307], [424, 422], [387, 681], [448, 244]], '000010.png': [[391, 173], [364, 307], [424, 422], [387, 681], [449, 244]], '000011.png': [[391, 173], [364, 307], [424, 422], [387, 681], [449, 244], [458, 239]], '000012.png': [[391, 173], [364, 307], [424, 422], [387, 681], [449, 244], [458, 239]], '000013.png': [[391, 173], [364, 307], [424, 422], [387, 681], [449, 244], [458, 239]], '000014.png': [[391, 173], [364, 307], [424, 422], [387, 681], [449, 244], [458, 239]], '000015.png': [[391, 173], [364, 307], [424, 422], [387, 681], [449, 244], [458, 239], [473, 239]], '000016.png': [[391, 173], [364, 307], [424, 422], [387, 681], [449, 244], [458, 239], [473, 239]], '000017.png': [[391, 173], [364, 307], [424, 422], [387, 681], [449, 244], [458, 239], [473, 239]], '000018.png': [[391, 173], [364, 307], [424, 422], [387, 681], [449, 244], [458, 239], [473, 239]], '000019.png': [[391, 173], [364, 307], [424, 422], [387, 681], [449, 244], [458, 239], [473, 239]], '000020.png': [[391, 173], [364, 307], [424, 422], [387, 681], [449, 244], [458, 239], [473, 239]], '000021.png': [[391, 173], [364, 307], [424, 422], [387, 681], [449, 244], [458, 239], [473, 239]], '000022.png': [[391, 173], [364, 307], [424, 422], [387, 681], [449, 244], [458, 239], [473, 239], [492, 224]], '000023.png': [[391, 173], [364, 307], [424, 422], [387, 681], [449, 244], [458, 239], [473, 239], [492, 224]], '000024.png': [[391, 173], [364, 307], [424, 422], [387, 681], [449, 244], [458, 239], [473, 239], [492, 224]], '000025.png': [[391, 173], [364, 307], [424, 422], [387, 681], [449, 244], [458, 239], [473, 239], [492, 224]], '000026.png': [[391, 173], [364, 307], [424, 422], [387, 681], [449, 244], [458, 239], [473, 239], [492, 224]], '000027.png': [[391, 173], [364, 307], [424, 422], [387, 681], [449, 244], [458, 239], [473, 239], [492, 224]], '000028.png': [[391, 173], [364, 307], [424, 422], [387, 681], [449, 244], [458, 239], [473, 239], [492, 224]], '000029.png': [[391, 173], [364, 307], [424, 422], [387, 681], [449, 244], [458, 239], [473, 239], [492, 224]], '000030.png': [[391, 173], [364, 307], [424, 422], [387, 681], [449, 244], [458, 239], [473, 239], [492, 224]], '000031.png': [[515, 229], [473, 250], [432, 273], [377, 331], [386, 185], [403, 453], [379, 712]], '000032.png': [[515, 229], [473, 250], [432, 273], [377, 331], [386, 185], [403, 453], [379, 712]], '000033.png': [[515, 229], [473, 250], [432, 273], [377, 331], [386, 185], [403, 453], [379, 712]], '000034.png': [[515, 229], [473, 250], [432, 273], [377, 331], [386, 185], [403, 453], [379, 712]], '000035.png': [[506, 247], [457, 262], [373, 326], [383, 187], [394, 444], [376, 709]], '000036.png': [[506, 247], [457, 262], [373, 326], [383, 187], [394, 444], [376, 709]], '000037.png': [[516, 267], [454, 282], [379, 350], [378, 181], [401, 668]], '000038.png': [[516, 267], [454, 282], [379, 350], [378, 181], [401, 668]], '000039.png': [[507, 281], [441, 294], [348, 331], [379, 184], [386, 669]], '000040.png': [[507, 281], [441, 294], [348, 331], [379, 184], [386, 669]], '000041.png': [[509, 304], [456, 303], [362, 303], [375, 179], [382, 453], [381, 706]], '000042.png': [[509, 304], [456, 303], [362, 303], [375, 179], [382, 453], [381, 706]], '000043.png': [[508, 339], [452, 332], [368, 349], [380, 191], [379, 641]], '000044.png': [[508, 339], [452, 332], [368, 349], [380, 191], [379, 641]], '000045.png': [[491, 363], [407, 343], [388, 196], [374, 696], [357, 428]], '000046.png': [[489, 375], [372, 332], [365, 206], [385, 687], [378, 455]], '000047.png': [[484, 391], [361, 362], [383, 187], [369, 692]], '000048.png': [[472, 403], [365, 372], [387, 197], [383, 684]], '000049.png': [[464, 422], [355, 353], [373, 184], [383, 663]], '000050.png': [[462, 428], [373, 427], [393, 166], [366, 683]], '000051.png': [[380, 743], [371, 426], [379, 177]], '000052.png': [[380, 743], [371, 426], [379, 177]], '000053.png': [[380, 743], [371, 426], [379, 177]], '000054.png': [[380, 743], [371, 426], [379, 177]], '000055.png': [[380, 743], [371, 426], [379, 177]], '000056.png': [[380, 743], [371, 426], [379, 177]], '000057.png': [[380, 743], [371, 426], [379, 177]], '000058.png': [[380, 743], [371, 426], [379, 177]], '000059.png': [[380, 743], [371, 426], [379, 177]], '000060.png': [[380, 743], [371, 426], [379, 177]], '000061.png': [[380, 743], [371, 426], [379, 177]], '000062.png': [[380, 743], [371, 426], [379, 177]], '000063.png': [[380, 743], [371, 426], [379, 177]], '000064.png': [[380, 743], [371, 426], [379, 177]], '000065.png': [[380, 743], [371, 426], [379, 177]], '000066.png': [[380, 743], [371, 426], [379, 177]], '000067.png': [[380, 743], [371, 426], [379, 177]], '000068.png': [[380, 743], [371, 426], [379, 177]], '000069.png': [[380, 743], [371, 426], [379, 177]], '000070.png': [[380, 743], [371, 426], [379, 177]], '000071.png': [[380, 743], [371, 426], [379, 177]], '000072.png': [[380, 743], [371, 426], [379, 177]], '000073.png': [[380, 743], [371, 426], [379, 177]], '000074.png': [[380, 743], [371, 426], [379, 177]], '000075.png': [[380, 743], [371, 426], [379, 177]], '000076.png': [[380, 743], [371, 426], [379, 177]], '000077.png': [[380, 743], [371, 426], [379, 177]], '000078.png': [[380, 743], [371, 426], [379, 177]], '000079.png': [[380, 743], [371, 426], [379, 177]], '000080.png': [[380, 743], [371, 426], [379, 177]], '000081.png': [[380, 743], [371, 426], [379, 177]], '000082.png': [[380, 743], [371, 426], [379, 177]], '000083.png': [[380, 743], [371, 426], [379, 177]], '000084.png': [[380, 743], [371, 426], [379, 177]], '000085.png': [[380, 743], [371, 426], [379, 177]], '000086.png': [[380, 743], [371, 426], [379, 177]], '000087.png': [[380, 743], [371, 426], [379, 177]], '000088.png': [[380, 743], [371, 426], [379, 177]], '000089.png': [[380, 743], [371, 426], [379, 177]], '000090.png': [[380, 743], [371, 426], [379, 177]], '000091.png': [[380, 743], [371, 426], [379, 177]], '000092.png': [[380, 743], [371, 426], [379, 177]], '000093.png': [[380, 743], [371, 426], [379, 177]], '000094.png': [[380, 743], [371, 426], [379, 177]], '000095.png': [[380, 743], [371, 426], [379, 177]], '000096.png': [[380, 743], [371, 426], [379, 177]], '000097.png': [[380, 743], [371, 426], [379, 177]], '000098.png': [[380, 743], [371, 426], [379, 177]], '000099.png': [[380, 743], [371, 426], [379, 177]], '000100.png': [[380, 743], [371, 426], [379, 177]], '000101.png': [[380, 743], [371, 426], [379, 177]], '000102.png': [[380, 743], [371, 426], [379, 177]], '000103.png': [[380, 743], [371, 426], [379, 177]], '000104.png': [[380, 743], [371, 426], [379, 177]], '000105.png': [[380, 743], [371, 426], [379, 177]], '000106.png': [[380, 743], [371, 426], [379, 177]], '000107.png': [[380, 743], [371, 426], [379, 177]], '000108.png': [[380, 743], [371, 426], [379, 177]], '000109.png': [[373, 700], [427, 442], [347, 429], [376, 306], [380, 183]], '000110.png': [[373, 700], [427, 442], [347, 429], [376, 306], [380, 183]], '000111.png': [[373, 700], [427, 442], [347, 429], [376, 306], [380, 183]], '000112.png': [[373, 700], [427, 442], [347, 429], [376, 306], [380, 183]], '000113.png': [[373, 700], [427, 442], [347, 429], [376, 306], [380, 183]], '000114.png': [[373, 700], [427, 442], [347, 429], [376, 306], [380, 183]], '000115.png': [[373, 700], [427, 442], [347, 429], [376, 306], [380, 183]], '000116.png': [[373, 700], [427, 442], [347, 429], [376, 306], [380, 183]], '000117.png': [[373, 700], [427, 442], [347, 429], [376, 306], [380, 183]], '000118.png': [[373, 700], [427, 442], [347, 429], [376, 306], [380, 183]], '000119.png': [[373, 700], [427, 442], [347, 429], [376, 306], [380, 183]], '000120.png': [[373, 700], [427, 442], [347, 429], [376, 306], [380, 183]], '000121.png': [[373, 700], [427, 442], [347, 429], [376, 306], [380, 183]], '000122.png': [[373, 700], [427, 442], [347, 429], [376, 306], [380, 183]], '000123.png': [[373, 700], [427, 442], [347, 429], [376, 306], [380, 183], [442, 257]], '000124.png': [[373, 700], [427, 442], [347, 429], [376, 306], [380, 183], [442, 257]], '000125.png': [[373, 700], [427, 442], [347, 429], [376, 306], [380, 183], [442, 257]], '000126.png': [[373, 700], [427, 442], [347, 429], [376, 306], [380, 183], [442, 257]], '000127.png': [[373, 700], [427, 442], [347, 429], [376, 306], [380, 183], [442, 257]], '000128.png': [[373, 700], [427, 442], [347, 429], [376, 306], [380, 183], [442, 257]], '000129.png': [[373, 700], [427, 442], [347, 429], [376, 306], [380, 183], [442, 257]], '000130.png': [[373, 700], [427, 442], [347, 429], [376, 306], [380, 183], [442, 257]], '000131.png': [[373, 700], [427, 442], [347, 429], [376, 306], [380, 183], [442, 257]], '000132.png': [[373, 700], [427, 442], [347, 429], [376, 306], [380, 183], [442, 257]], '000133.png': [[373, 700], [427, 442], [347, 429], [376, 306], [380, 183], [442, 257]], '000134.png': [[373, 700], [427, 442], [347, 429], [376, 306], [380, 183], [442, 257]], '000135.png': [[373, 700], [427, 442], [347, 429], [376, 306], [380, 183], [442, 257]], '000136.png': [[373, 700], [427, 442], [347, 429], [376, 306], [380, 183], [442, 257]], '000137.png': [[373, 700], [427, 442], [347, 429], [376, 306], [380, 183], [442, 257]], '000138.png': [[373, 700], [427, 442], [347, 429], [376, 306], [380, 183], [442, 257]], '000139.png': [[373, 700], [427, 442], [347, 429], [376, 306], [380, 183], [442, 257]], '000140.png': [[373, 700], [427, 442], [347, 429], [376, 306], [380, 183], [442, 257]], '000141.png': [[373, 700], [427, 442], [347, 429], [376, 306], [380, 183], [442, 257]], '000142.png': [[373, 700], [427, 442], [347, 429], [376, 306], [380, 183], [442, 257]], '000143.png': [[373, 700], [427, 442], [347, 429], [376, 306], [380, 183], [442, 257]], '000144.png': [[373, 700], [427, 442], [347, 429], [376, 306], [380, 183], [442, 257]], '000145.png': [[373, 700], [427, 442], [347, 429], [376, 306], [380, 183], [442, 257]], '000146.png': [[373, 700], [427, 442], [347, 429], [376, 306], [380, 183], [442, 257]], '000147.png': [[373, 700], [427, 442], [347, 429], [376, 306], [380, 183], [442, 257]], '000148.png': [[373, 700], [427, 442], [347, 429], [376, 306], [380, 183], [442, 257]], '000149.png': [[373, 700], [427, 442], [347, 429], [376, 306], [380, 183], [442, 257]], '000150.png': [[373, 700], [427, 442], [347, 429], [376, 306], [380, 183], [442, 257]], '000151.png': [[373, 700], [427, 442], [347, 429], [376, 306], [380, 183], [442, 257]], '000152.png': [[373, 700], [427, 442], [347, 429], [376, 306], [380, 183], [442, 257]], '000153.png': [[373, 700], [427, 442], [347, 429], [376, 306], [380, 183], [442, 257]], '000154.png': [[373, 700], [427, 442], [347, 429], [376, 306], [380, 183], [442, 257]], '000155.png': [[373, 700], [427, 442], [347, 429], [376, 306], [380, 183], [442, 257]], '000156.png': [[373, 700], [427, 442], [347, 429], [376, 306], [380, 183], [442, 257]], '000157.png': [[373, 700], [427, 442], [347, 429], [376, 306], [380, 183], [442, 257]], '000158.png': [[373, 700], [427, 442], [347, 429], [376, 306], [380, 183], [442, 257]], '000159.png': [[373, 700], [427, 442], [347, 429], [376, 306], [380, 183], [442, 257]], '000160.png': [[373, 700], [427, 442], [347, 429], [376, 306], [380, 183], [442, 257]], '000161.png': [[373, 700], [427, 442], [347, 429], [376, 306], [380, 183], [442, 257]], '000162.png': [[373, 700], [427, 442], [347, 429], [376, 306], [380, 183], [442, 257]], '000163.png': [[373, 700], [427, 442], [347, 429], [376, 306], [380, 183], [442, 257]], '000164.png': [[373, 700], [427, 442], [347, 429], [376, 306], [380, 183], [442, 257]], '000165.png': [[373, 700], [427, 442], [347, 429], [376, 306], [380, 183], [442, 257]], '000166.png': [[373, 700], [427, 442], [347, 429], [376, 306], [380, 183], [442, 257]], '000167.png': [[373, 700], [427, 442], [347, 429], [376, 306], [380, 183], [442, 257]], '000168.png': [[373, 700], [427, 442], [347, 429], [376, 306], [380, 183], [442, 257]], '000169.png': [[373, 700], [427, 442], [347, 429], [376, 306], [380, 183], [442, 257]], '000170.png': [[373, 700], [427, 442], [347, 429], [376, 306], [380, 183], [442, 257]], '000171.png': [[373, 700], [427, 442], [347, 429], [376, 306], [380, 183], [442, 257]], '000172.png': [[373, 700], [427, 442], [347, 429], [376, 306], [380, 183], [442, 257]], '000173.png': [[373, 700], [427, 442], [347, 429], [376, 306], [380, 183], [442, 257]], '000174.png': [[373, 700], [427, 442], [347, 429], [376, 306], [380, 183], [442, 257]], '000175.png': [[373, 700], [427, 442], [347, 429], [376, 306], [380, 183], [442, 257]], '000176.png': [[373, 700], [427, 442], [347, 429], [376, 306], [380, 183], [442, 257]], '000177.png': [[373, 700], [427, 442], [347, 429], [376, 306], [380, 183], [442, 257]], '000178.png': [[373, 700], [427, 442], [347, 429], [376, 306], [380, 183], [442, 257]], '000179.png': [[365, 713], [380, 546], [400, 444], [331, 399], [359, 333], [392, 205], [424, 290]], '000180.png': [[365, 713], [380, 546], [400, 444], [331, 399], [359, 333], [392, 205], [424, 290]], '000181.png': [[365, 713], [380, 546], [400, 444], [331, 399], [359, 333], [392, 205], [424, 290]], '000182.png': [[365, 713], [380, 546], [400, 444], [331, 399], [359, 333], [392, 205], [424, 290]], '000183.png': [[365, 713], [380, 546], [400, 444], [331, 399], [359, 333], [392, 205], [424, 290]], '000184.png': [[365, 713], [380, 546], [400, 444], [331, 399], [359, 333], [392, 205], [424, 290]], '000185.png': [[365, 713], [380, 546], [400, 444], [331, 399], [359, 333], [392, 205], [424, 290]], '000186.png': [[365, 713], [380, 546], [400, 444], [331, 399], [359, 333], [392, 205], [424, 290]], '000187.png': [[365, 713], [380, 546], [400, 444], [331, 399], [359, 333], [392, 205], [424, 290]], '000188.png': [[433, 316], [351, 347], [371, 272], [392, 185], [417, 419], [378, 607], [366, 752]], '000189.png': [[433, 316], [351, 347], [371, 272], [392, 185], [417, 419], [378, 607], [366, 752]], '000190.png': [[433, 316], [351, 347], [371, 272], [392, 185], [417, 419], [378, 607], [366, 752]]}\n"
     ]
    }
   ],
   "source": [
    "import json\n",
    "#open annotations file\n",
    "with open('./annotations.json') as f:\n",
    "    annotations = json.load(f)\n",
    "    \n",
    "print(annotations)"
   ]
  },
  {
   "cell_type": "code",
   "execution_count": 3,
   "metadata": {},
   "outputs": [
    {
     "data": {
      "text/plain": [
       "<matplotlib.image.AxesImage at 0x25ab02ad130>"
      ]
     },
     "execution_count": 3,
     "metadata": {},
     "output_type": "execute_result"
    },
    {
     "data": {
      "image/png": "[encoded data removed]",
      "text/plain": [
       "<Figure size 640x480 with 1 Axes>"
      ]
     },
     "metadata": {},
     "output_type": "display_data"
    }
   ],
   "source": [
    "import cv2, numpy as np\n",
    "import matplotlib.pyplot as plt\n",
    "str_id = 'wildtrack_processed/masks/000001.png'\n",
    "\n",
    "image = cv2.imread(str_id)\n",
    "image = cv2.cvtColor(image, cv2.COLOR_BGR2RGB)\n",
    "def remove_small_regions(\n",
    "    mask: np.ndarray, area_thresh: float, mode: str\n",
    ") :\n",
    "    \"\"\"\n",
    "    Removes small disconnected regions and holes in a mask. Returns the\n",
    "    mask and an indicator of if the mask has been modified.\n",
    "    \"\"\"\n",
    "    import cv2  # type: ignore\n",
    "\n",
    "    assert mode in [\"holes\", \"islands\"]\n",
    "    correct_holes = mode == \"holes\"\n",
    "    working_mask = (correct_holes ^ mask).astype(np.uint8)\n",
    "    n_labels, regions, stats, _ = cv2.connectedComponentsWithStats(working_mask, 8)\n",
    "    sizes = stats[:, -1][1:]  # Row 0 is background label\n",
    "    small_regions = [i + 1 for i, s in enumerate(sizes) if s < area_thresh]\n",
    "    if len(small_regions) == 0:\n",
    "        return mask, False\n",
    "    fill_labels = [0] + small_regions\n",
    "    if not correct_holes:\n",
    "        fill_labels = [i for i in range(n_labels) if i not in fill_labels]\n",
    "        # If every region is below threshold, keep largest\n",
    "        if len(fill_labels) == 0:\n",
    "            fill_labels = [int(np.argmax(sizes)) + 1]\n",
    "    mask = np.isin(regions, fill_labels)\n",
    "    return mask, True\n",
    "new_mask = remove_small_regions(image[:,:,0], 100, 'islands')\n",
    "\n",
    "plt.imshow(new_mask[0])\n"
   ]
  },
  {
   "cell_type": "code",
   "execution_count": 11,
   "metadata": {},
   "outputs": [
    {
     "data": {
      "text/plain": [
       "array([[0.99, 1.99, 2.99],\n",
       "       [4.01, 5.01, 6.01]])"
      ]
     },
     "execution_count": 11,
     "metadata": {},
     "output_type": "execute_result"
    }
   ],
   "source": [
    "import numpy as np \n",
    "\n",
    "a = np.array([[1,2,3],[4,5,6]])\n",
    "\n",
    "a = a+ np.array([-0.01, 0.01])[:, None]\n",
    "a[None]-"
   ]
  }
 ],
 "metadata": {
  "kernelspec": {
   "display_name": "base",
   "language": "python",
   "name": "python3"
  },
  "language_info": {
   "codemirror_mode": {
    "name": "ipython",
    "version": 3
   },
   "file_extension": ".py",
   "mimetype": "text/x-python",
   "name": "python",
   "nbconvert_exporter": "python",
   "pygments_lexer": "ipython3",
   "version": "3.8.18"
  }
 },
 "nbformat": 4,
 "nbformat_minor": 2
}
